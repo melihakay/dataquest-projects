{
 "cells": [
  {
   "cell_type": "markdown",
   "metadata": {},
   "source": [
    "# Analyzing AppStore Data"
   ]
  },
  {
   "cell_type": "markdown",
   "metadata": {},
   "source": [
    "This project analyzes data fetched from app stores in order to find out most profitable option."
   ]
  },
  {
   "cell_type": "code",
   "execution_count": 1,
   "metadata": {},
   "outputs": [],
   "source": [
    "import csv\n",
    "reader = csv.reader"
   ]
  },
  {
   "cell_type": "code",
   "execution_count": 2,
   "metadata": {},
   "outputs": [],
   "source": [
    "def explore_data(dataset, start, end, rows_and_columns=False):\n",
    "    dataset_slice = dataset[start:end]    \n",
    "    for row in dataset_slice:\n",
    "        print(row)\n",
    "        print('\\n') # adds a new (empty) line after each row\n",
    "\n",
    "    if rows_and_columns:\n",
    "        print('Number of rows:', len(dataset))\n",
    "        print('Number of columns:', len(dataset[0]))"
   ]
  },
  {
   "cell_type": "code",
   "execution_count": 3,
   "metadata": {},
   "outputs": [],
   "source": [
    "applef = reader(open(\"AppleStore.csv\"))\n",
    "apple = list(applef)\n",
    "googlef = reader(open(\"googleplaystore.csv\"))\n",
    "google = list(googlef)"
   ]
  },
  {
   "cell_type": "code",
   "execution_count": 32,
   "metadata": {
    "scrolled": false
   },
   "outputs": [
    {
     "name": "stdout",
     "output_type": "stream",
     "text": [
      "['Sketch - Draw & Paint', 'ART_AND_DESIGN', '4.5', '215644', '25M', '50,000,000+', 'Free', '0', 'Teen', 'Art & Design', 'June 8, 2018', 'Varies with device', '4.2 and up']\n",
      "\n",
      "\n",
      "Number of rows: 8863\n",
      "Number of columns: 13\n",
      "['529479190', 'Clash of Clans', '116476928', 'USD', '0.0', '2130805', '579', '4.5', '4.5', '9.24.12', '9+', 'Games', '38', '5', '18', '1']\n",
      "\n",
      "\n",
      "Number of rows: 3220\n",
      "Number of columns: 16\n"
     ]
    }
   ],
   "source": [
    "explore_data(google,2,3, True)\n",
    "explore_data(apple,2,3, True)\n"
   ]
  },
  {
   "cell_type": "markdown",
   "metadata": {},
   "source": [
    "We create headers below:"
   ]
  },
  {
   "cell_type": "code",
   "execution_count": 5,
   "metadata": {
    "scrolled": true
   },
   "outputs": [
    {
     "name": "stdout",
     "output_type": "stream",
     "text": [
      "['App', 'Category', 'Rating', 'Reviews', 'Size', 'Installs', 'Type', 'Price', 'Content Rating', 'Genres', 'Last Updated', 'Current Ver', 'Android Ver']\n",
      "['id', 'track_name', 'size_bytes', 'currency', 'price', 'rating_count_tot', 'rating_count_ver', 'user_rating', 'user_rating_ver', 'ver', 'cont_rating', 'prime_genre', 'sup_devices.num', 'ipadSc_urls.num', 'lang.num', 'vpp_lic']\n"
     ]
    }
   ],
   "source": [
    "gheader = google[0]\n",
    "print(gheader)\n",
    "google = google[1:]\n",
    "aheader = apple[0]\n",
    "print(aheader)\n",
    "apple = apple[1:]"
   ]
  },
  {
   "cell_type": "markdown",
   "metadata": {},
   "source": [
    "## Clear Data\n",
    "Check if there is any faulty entries"
   ]
  },
  {
   "cell_type": "code",
   "execution_count": 6,
   "metadata": {},
   "outputs": [
    {
     "name": "stdout",
     "output_type": "stream",
     "text": [
      "Dropping from google:\n",
      " ['Life Made WI-Fi Touchscreen Photo Frame', '1.9', '19', '3.0M', '1,000+', 'Free', '0', 'Everyone', '', 'February 11, 2018', '1.0.19', '4.0 and up']\n"
     ]
    }
   ],
   "source": [
    "for i in range(len(google)-1):\n",
    "    if len(google[i]) != len(gheader):\n",
    "        print(\"Dropping from google:\\n\",google[i])\n",
    "        del google[i]\n",
    "for i in range(len(apple)):\n",
    "    if len(apple[i]) != len(aheader):\n",
    "        print(\"Dropping from apple:\\n\",apple[i])\n",
    "        del apple[i]"
   ]
  },
  {
   "cell_type": "markdown",
   "metadata": {},
   "source": [
    "Check if there is  duplicate applications"
   ]
  },
  {
   "cell_type": "code",
   "execution_count": 7,
   "metadata": {
    "scrolled": true
   },
   "outputs": [
    {
     "name": "stdout",
     "output_type": "stream",
     "text": [
      "9659\n",
      "1181\n",
      "7195\n",
      "2\n"
     ]
    }
   ],
   "source": [
    "g_unique_apps = []\n",
    "g_dup_apps = []\n",
    "for app in google:\n",
    "    name = app[0]\n",
    "    if name in g_unique_apps:\n",
    "        g_dup_apps.append(name)\n",
    "    else:\n",
    "        g_unique_apps.append(name)\n",
    "print(len(g_unique_apps))\n",
    "print(len(g_dup_apps))\n",
    "        \n",
    "a_unique_apps = []\n",
    "a_dup_apps = []\n",
    "for app in apple:\n",
    "    name = app[1]\n",
    "    if name in a_unique_apps:\n",
    "        a_dup_apps.append(name)\n",
    "    else:\n",
    "        a_unique_apps.append(name)\n",
    "print(len(a_unique_apps))\n",
    "print(len(a_dup_apps))\n",
    "        "
   ]
  },
  {
   "cell_type": "markdown",
   "metadata": {},
   "source": [
    "Note that we won't drop duplicates randomly. Most recent entry is chosen by functipn below."
   ]
  },
  {
   "cell_type": "code",
   "execution_count": 8,
   "metadata": {},
   "outputs": [
    {
     "name": "stdout",
     "output_type": "stream",
     "text": [
      "9659\n",
      "7195\n"
     ]
    }
   ],
   "source": [
    "g_name_vs_review = {}\n",
    "for i in google:\n",
    "    name = i[0]\n",
    "    cur_rev = float(i[3])\n",
    "    if name not in g_name_vs_review:\n",
    "        g_name_vs_review[name] = cur_rev\n",
    "    else:\n",
    "        if cur_rev > g_name_vs_review[name]:\n",
    "            g_name_vs_review[name] = cur_rev\n",
    "print(len(g_name_vs_review))\n",
    "\n",
    "a_name_vs_review = {}\n",
    "for i in apple:\n",
    "    name = i[1]\n",
    "    cur_rev = float(i[5])\n",
    "    if name not in a_name_vs_review:\n",
    "        a_name_vs_review[name] = cur_rev\n",
    "    else:\n",
    "        if cur_rev > a_name_vs_review[name]:\n",
    "            a_name_vs_review[name] = cur_rev\n",
    "print(len(a_name_vs_review))"
   ]
  },
  {
   "cell_type": "markdown",
   "metadata": {},
   "source": [
    "Function below will create clean google list:"
   ]
  },
  {
   "cell_type": "code",
   "execution_count": 9,
   "metadata": {},
   "outputs": [
    {
     "name": "stdout",
     "output_type": "stream",
     "text": [
      "9659\n",
      "7195\n"
     ]
    }
   ],
   "source": [
    "google_clean = []\n",
    "added_apps = []\n",
    "for app in google:\n",
    "    name = app[0]\n",
    "    rev = float(app[3])\n",
    "    \n",
    "    if (g_name_vs_review[name] == rev) and (name not in added_apps):\n",
    "        google_clean.append(app)\n",
    "        added_apps.append(name)\n",
    "print(len(google_clean))\n",
    "\n",
    "apple_clean = []\n",
    "added_apps = []\n",
    "for app in apple:\n",
    "    name = app[1]\n",
    "    rev = float(app[5])\n",
    "    \n",
    "    if (a_name_vs_review[name] == rev) and (name not in added_apps):\n",
    "        apple_clean.append(app)\n",
    "        added_apps.append(name)\n",
    "print(len(apple_clean))\n",
    "\n",
    "google = google_clean\n",
    "apple  = apple_clean"
   ]
  },
  {
   "cell_type": "markdown",
   "metadata": {},
   "source": [
    "Check for if english"
   ]
  },
  {
   "cell_type": "code",
   "execution_count": 11,
   "metadata": {
    "scrolled": true
   },
   "outputs": [
    {
     "name": "stdout",
     "output_type": "stream",
     "text": [
      "9614\n",
      "6181\n"
     ]
    }
   ],
   "source": [
    "def english(name):\n",
    "    count = 0\n",
    "    for char in name:\n",
    "        if ord(char) > 127:\n",
    "            count += 1\n",
    "    if count > 3:\n",
    "        return False\n",
    "    else:\n",
    "        return True\n",
    "\n",
    "google_english = []\n",
    "apple_english = []\n",
    "\n",
    "for app in google:\n",
    "    name = app[0]\n",
    "    if english(name):\n",
    "        google_english.append(app)\n",
    "print(len(google_english))\n",
    "\n",
    "for app in apple:\n",
    "    name = app[1]\n",
    "    if english(name):\n",
    "        apple_english.append(app)\n",
    "print(len(apple_english))\n",
    "\n",
    "google = google_english\n",
    "apple = apple_english"
   ]
  },
  {
   "cell_type": "code",
   "execution_count": 28,
   "metadata": {},
   "outputs": [
    {
     "name": "stdout",
     "output_type": "stream",
     "text": [
      "8863 3220\n"
     ]
    }
   ],
   "source": [
    "g_not_free = []\n",
    "a_not_free = []\n",
    "g_free = []\n",
    "a_free = []\n",
    "for i in range(len(google)):\n",
    "    name=google[i][0]\n",
    "    price=google[i][6]\n",
    "    if price != \"Free\":\n",
    "        g_not_free.append(name)\n",
    "    else:\n",
    "        g_free.append(google[i])\n",
    "\n",
    "a_not_free = []\n",
    "for i in range(len(apple)):\n",
    "    name=apple[i][1]\n",
    "    price=apple[i][4]\n",
    "    if price != \"0.0\":\n",
    "        a_not_free.append(name)\n",
    "    else:\n",
    "        a_free.append(apple[i])\n",
    "\n",
    "print(len(g_free), len(a_free))"
   ]
  },
  {
   "cell_type": "markdown",
   "metadata": {},
   "source": [
    "Reset the datasets:"
   ]
  },
  {
   "cell_type": "code",
   "execution_count": 29,
   "metadata": {},
   "outputs": [],
   "source": [
    "google = g_free\n",
    "apple = a_free"
   ]
  },
  {
   "cell_type": "markdown",
   "metadata": {},
   "source": [
    "Since we want to build an app that succeds in both markets, we would like find out app profiles that are successfull in both markets. To achieve that, we may first look for most common genres:"
   ]
  },
  {
   "cell_type": "code",
   "execution_count": 36,
   "metadata": {},
   "outputs": [],
   "source": [
    "def genre_freq(genre,dataset):\n",
    "    if genre in genres[dataset]:\n",
    "        genres[dataset][genre] += 1\n",
    "    else:\n",
    "        genres[dataset][genre] = 1"
   ]
  },
  {
   "cell_type": "markdown",
   "metadata": {},
   "source": [
    "Function"
   ]
  },
  {
   "cell_type": "code",
   "execution_count": 68,
   "metadata": {},
   "outputs": [
    {
     "name": "stdout",
     "output_type": "stream",
     "text": [
      "{'4.1': 6.6794539095114525, '4.7': 4.321335890781902, '4.5': 8.811914701568318, '4.3': 9.522734965587274, '4.4': 9.285794877580955, '3.8': 3.0125239760803337, '4.2': 8.473428861559292, '4.6': 6.8374139681823305, '3.2': 0.6882545413516867, '4.0': 5.517319192147128, '4.8': 2.06476362405506, '3.9': 3.870021437436534, '4.9': 0.8913460453571026, '3.6': 1.771409229380571, '3.7': 2.403249464064087, 'NaN': 14.633871149723571, '3.3': 1.0718718266952498, '3.4': 1.3088119147015682, '3.5': 1.6472977547105947, '3.1': 0.7333859866862237, '5.0': 2.7417353040731127, '3.0': 0.8236488773552973, '2.5': 0.21437436533904997, '2.8': 0.4174658693444658, '2.7': 0.2369400880063184, '1.0': 0.15796005867087895, '1.9': 0.1241114746699763, '2.9': 0.4400315920117342, '2.3': 0.20309150400541578, '2.6': 0.2482229493399526, '2.2': 0.15796005867087895, '1.7': 0.07898002933543948, '2.0': 0.1241114746699763, '2.4': 0.19180864267178158, '1.8': 0.07898002933543948, '1.6': 0.045131445334536835, '2.1': 0.09026289066907367, '1.4': 0.033848584000902626, '1.5': 0.033848584000902626, '1.2': 0.011282861333634209}\n"
     ]
    }
   ],
   "source": [
    "def freq_table(dataset, index):\n",
    "    table = {}\n",
    "    percentage = {}\n",
    "    for i in range(len(dataset)):\n",
    "        value = dataset[i][index]\n",
    "        if value not in table:\n",
    "            table[value] = 0\n",
    "        table[value] += 1\n",
    "    sum = 0\n",
    "    for count in table:\n",
    "        sum += table[count]\n",
    "    for n in table:\n",
    "        percentage[n] = (table[n]/sum)*100\n",
    "    return percentage\n",
    "\n",
    "print(freq_table(google,2))"
   ]
  },
  {
   "cell_type": "code",
   "execution_count": 69,
   "metadata": {},
   "outputs": [],
   "source": [
    "def display_table(dataset, index):\n",
    "    table = freq_table(dataset, index)\n",
    "    table_display = []\n",
    "    for key in table:\n",
    "        key_val_as_tuple = (table[key], key)\n",
    "        table_display.append(key_val_as_tuple)\n",
    "\n",
    "    table_sorted = sorted(table_display, reverse = True)\n",
    "    for entry in table_sorted:\n",
    "        print(entry[1], ':', entry[0])"
   ]
  },
  {
   "cell_type": "code",
   "execution_count": 79,
   "metadata": {
    "scrolled": false
   },
   "outputs": [
    {
     "name": "stdout",
     "output_type": "stream",
     "text": [
      "Games : 58.13664596273293\n",
      "Entertainment : 7.888198757763975\n",
      "Photo & Video : 4.968944099378882\n",
      "Education : 3.6645962732919255\n",
      "Social Networking : 3.291925465838509\n",
      "Shopping : 2.608695652173913\n",
      "Utilities : 2.515527950310559\n",
      "Sports : 2.142857142857143\n",
      "Music : 2.049689440993789\n",
      "Health & Fitness : 2.018633540372671\n",
      "Productivity : 1.7391304347826086\n",
      "Lifestyle : 1.5838509316770186\n",
      "News : 1.3354037267080745\n",
      "Travel : 1.2422360248447204\n",
      "Finance : 1.1180124223602486\n",
      "Weather : 0.8695652173913043\n",
      "Food & Drink : 0.8074534161490683\n",
      "Reference : 0.5590062111801243\n",
      "Business : 0.5279503105590062\n",
      "Book : 0.43478260869565216\n",
      "Navigation : 0.18633540372670807\n",
      "Medical : 0.18633540372670807\n",
      "Catalogs : 0.12422360248447205\n"
     ]
    }
   ],
   "source": [
    "prime_genre = display_table(apple,11)"
   ]
  },
  {
   "cell_type": "code",
   "execution_count": 80,
   "metadata": {},
   "outputs": [
    {
     "name": "stdout",
     "output_type": "stream",
     "text": [
      "FAMILY : 18.898792733837304\n",
      "GAME : 9.725826469592688\n",
      "TOOLS : 8.462146000225657\n",
      "BUSINESS : 4.592124562789123\n",
      "LIFESTYLE : 3.9038700214374367\n",
      "PRODUCTIVITY : 3.8925871601038025\n",
      "FINANCE : 3.7007785174320205\n",
      "MEDICAL : 3.5315355974275078\n",
      "SPORTS : 3.396141261423897\n",
      "PERSONALIZATION : 3.317161232088458\n",
      "COMMUNICATION : 3.2381812027530184\n",
      "HEALTH_AND_FITNESS : 3.0802211440821394\n",
      "PHOTOGRAPHY : 2.944826808078529\n",
      "NEWS_AND_MAGAZINES : 2.798149610741284\n",
      "SOCIAL : 2.6627552747376737\n",
      "TRAVEL_AND_LOCAL : 2.335552296062281\n",
      "SHOPPING : 2.245289405393208\n",
      "BOOKS_AND_REFERENCE : 2.1437436533904997\n",
      "DATING : 1.8616721200496444\n",
      "VIDEO_PLAYERS : 1.7939749520478394\n",
      "MAPS_AND_NAVIGATION : 1.399074805370642\n",
      "FOOD_AND_DRINK : 1.241114746699763\n",
      "EDUCATION : 1.1621347173643235\n",
      "ENTERTAINMENT : 0.9590432133589079\n",
      "LIBRARIES_AND_DEMO : 0.9364774906916393\n",
      "AUTO_AND_VEHICLES : 0.9251946293580051\n",
      "HOUSE_AND_HOME : 0.8236488773552973\n",
      "WEATHER : 0.8010831546880289\n",
      "EVENTS : 0.7108202640189552\n",
      "PARENTING : 0.6544059573507841\n",
      "ART_AND_DESIGN : 0.6431230960171499\n",
      "COMICS : 0.6205573733498815\n",
      "BEAUTY : 0.5979916506826132\n"
     ]
    }
   ],
   "source": [
    "genres = display_table(google,1)"
   ]
  },
  {
   "cell_type": "code",
   "execution_count": 81,
   "metadata": {},
   "outputs": [
    {
     "name": "stdout",
     "output_type": "stream",
     "text": [
      "Tools : 8.450863138892023\n",
      "Entertainment : 6.070179397495204\n",
      "Education : 5.348076272142616\n",
      "Business : 4.592124562789123\n",
      "Productivity : 3.8925871601038025\n",
      "Lifestyle : 3.8925871601038025\n",
      "Finance : 3.7007785174320205\n",
      "Medical : 3.5315355974275078\n",
      "Sports : 3.463838429425702\n",
      "Personalization : 3.317161232088458\n",
      "Communication : 3.2381812027530184\n",
      "Action : 3.102786866749408\n",
      "Health & Fitness : 3.0802211440821394\n",
      "Photography : 2.944826808078529\n",
      "News & Magazines : 2.798149610741284\n",
      "Social : 2.6627552747376737\n",
      "Travel & Local : 2.324269434728647\n",
      "Shopping : 2.245289405393208\n",
      "Books & Reference : 2.1437436533904997\n",
      "Simulation : 2.042197901387792\n",
      "Dating : 1.8616721200496444\n",
      "Arcade : 1.8503892587160102\n",
      "Video Players & Editors : 1.771409229380571\n",
      "Casual : 1.7601263680469368\n",
      "Maps & Navigation : 1.399074805370642\n",
      "Food & Drink : 1.241114746699763\n",
      "Puzzle : 1.128286133363421\n",
      "Racing : 0.9928917973598104\n",
      "Role Playing : 0.9364774906916393\n",
      "Libraries & Demo : 0.9364774906916393\n",
      "Auto & Vehicles : 0.9251946293580051\n",
      "Strategy : 0.9026289066907368\n",
      "House & Home : 0.8236488773552973\n",
      "Weather : 0.8010831546880289\n",
      "Events : 0.7108202640189552\n",
      "Adventure : 0.6769716800180525\n",
      "Comics : 0.6092745120162473\n",
      "Beauty : 0.5979916506826132\n",
      "Art & Design : 0.5979916506826132\n",
      "Parenting : 0.4964458986799052\n",
      "Card : 0.4513144533453684\n",
      "Casino : 0.42874873067809993\n",
      "Trivia : 0.4174658693444658\n",
      "Educational;Education : 0.3949001466771973\n",
      "Board : 0.38361728534356315\n",
      "Educational : 0.37233442400992894\n",
      "Education;Education : 0.33848584000902626\n",
      "Word : 0.25950581067358686\n",
      "Casual;Pretend Play : 0.2369400880063184\n",
      "Music : 0.20309150400541578\n",
      "Racing;Action & Adventure : 0.16924292000451313\n",
      "Puzzle;Brain Games : 0.16924292000451313\n",
      "Entertainment;Music & Video : 0.16924292000451313\n",
      "Casual;Brain Games : 0.1353943360036105\n",
      "Casual;Action & Adventure : 0.1353943360036105\n",
      "Arcade;Action & Adventure : 0.1241114746699763\n",
      "Action;Action & Adventure : 0.10154575200270789\n",
      "Educational;Pretend Play : 0.09026289066907367\n",
      "Simulation;Action & Adventure : 0.07898002933543948\n",
      "Parenting;Education : 0.07898002933543948\n",
      "Entertainment;Brain Games : 0.07898002933543948\n",
      "Board;Brain Games : 0.07898002933543948\n",
      "Parenting;Music & Video : 0.06769716800180525\n",
      "Educational;Brain Games : 0.06769716800180525\n",
      "Casual;Creativity : 0.06769716800180525\n",
      "Art & Design;Creativity : 0.06769716800180525\n",
      "Education;Pretend Play : 0.05641430666817105\n",
      "Role Playing;Pretend Play : 0.045131445334536835\n",
      "Education;Creativity : 0.045131445334536835\n",
      "Role Playing;Action & Adventure : 0.033848584000902626\n",
      "Puzzle;Action & Adventure : 0.033848584000902626\n",
      "Entertainment;Creativity : 0.033848584000902626\n",
      "Entertainment;Action & Adventure : 0.033848584000902626\n",
      "Educational;Creativity : 0.033848584000902626\n",
      "Educational;Action & Adventure : 0.033848584000902626\n",
      "Education;Music & Video : 0.033848584000902626\n",
      "Education;Brain Games : 0.033848584000902626\n",
      "Education;Action & Adventure : 0.033848584000902626\n",
      "Adventure;Action & Adventure : 0.033848584000902626\n",
      "Video Players & Editors;Music & Video : 0.022565722667268417\n",
      "Sports;Action & Adventure : 0.022565722667268417\n",
      "Simulation;Pretend Play : 0.022565722667268417\n",
      "Puzzle;Creativity : 0.022565722667268417\n",
      "Music;Music & Video : 0.022565722667268417\n",
      "Entertainment;Pretend Play : 0.022565722667268417\n",
      "Casual;Education : 0.022565722667268417\n",
      "Board;Action & Adventure : 0.022565722667268417\n",
      "Video Players & Editors;Creativity : 0.011282861333634209\n",
      "Trivia;Education : 0.011282861333634209\n",
      "Travel & Local;Action & Adventure : 0.011282861333634209\n",
      "Tools;Education : 0.011282861333634209\n",
      "Strategy;Education : 0.011282861333634209\n",
      "Strategy;Creativity : 0.011282861333634209\n",
      "Strategy;Action & Adventure : 0.011282861333634209\n",
      "Simulation;Education : 0.011282861333634209\n",
      "Role Playing;Brain Games : 0.011282861333634209\n",
      "Racing;Pretend Play : 0.011282861333634209\n",
      "Puzzle;Education : 0.011282861333634209\n",
      "Parenting;Brain Games : 0.011282861333634209\n",
      "Music & Audio;Music & Video : 0.011282861333634209\n",
      "Lifestyle;Pretend Play : 0.011282861333634209\n",
      "Lifestyle;Education : 0.011282861333634209\n",
      "Health & Fitness;Education : 0.011282861333634209\n",
      "Health & Fitness;Action & Adventure : 0.011282861333634209\n",
      "Entertainment;Education : 0.011282861333634209\n",
      "Communication;Creativity : 0.011282861333634209\n",
      "Comics;Creativity : 0.011282861333634209\n",
      "Casual;Music & Video : 0.011282861333634209\n",
      "Card;Action & Adventure : 0.011282861333634209\n",
      "Books & Reference;Education : 0.011282861333634209\n",
      "Art & Design;Pretend Play : 0.011282861333634209\n",
      "Art & Design;Action & Adventure : 0.011282861333634209\n",
      "Arcade;Pretend Play : 0.011282861333634209\n",
      "Adventure;Education : 0.011282861333634209\n"
     ]
    }
   ],
   "source": [
    "category = display_table(google,9)"
   ]
  },
  {
   "cell_type": "code",
   "execution_count": null,
   "metadata": {},
   "outputs": [],
   "source": []
  }
 ],
 "metadata": {
  "kernelspec": {
   "display_name": "Python 3",
   "language": "python",
   "name": "python3"
  },
  "language_info": {
   "codemirror_mode": {
    "name": "ipython",
    "version": 3
   },
   "file_extension": ".py",
   "mimetype": "text/x-python",
   "name": "python",
   "nbconvert_exporter": "python",
   "pygments_lexer": "ipython3",
   "version": "3.8.2"
  }
 },
 "nbformat": 4,
 "nbformat_minor": 2
}
