{
 "cells": [
  {
   "cell_type": "markdown",
   "metadata": {},
   "source": [
    "# Analyzing AppStore Data"
   ]
  },
  {
   "cell_type": "markdown",
   "metadata": {},
   "source": [
    "This project analyzes data fetched from app stores in order to find out most profitable option."
   ]
  },
  {
   "cell_type": "code",
   "execution_count": 1,
   "metadata": {},
   "outputs": [],
   "source": [
    "import csv\n",
    "reader = csv.reader"
   ]
  },
  {
   "cell_type": "code",
   "execution_count": 2,
   "metadata": {},
   "outputs": [],
   "source": [
    "def explore_data(dataset, start, end, rows_and_columns=False):\n",
    "    dataset_slice = dataset[start:end]    \n",
    "    for row in dataset_slice:\n",
    "        print(row)\n",
    "        print('\\n') # adds a new (empty) line after each row\n",
    "\n",
    "    if rows_and_columns:\n",
    "        print('Number of rows:', len(dataset))\n",
    "        print('Number of columns:', len(dataset[0]))"
   ]
  },
  {
   "cell_type": "code",
   "execution_count": 3,
   "metadata": {},
   "outputs": [],
   "source": [
    "applef = reader(open(\"AppleStore.csv\"))\n",
    "apple = list(applef)\n",
    "googlef = reader(open(\"googleplaystore.csv\"))\n",
    "google = list(googlef)"
   ]
  },
  {
   "cell_type": "code",
   "execution_count": 32,
   "metadata": {
    "scrolled": false
   },
   "outputs": [
    {
     "name": "stdout",
     "output_type": "stream",
     "text": [
      "['Sketch - Draw & Paint', 'ART_AND_DESIGN', '4.5', '215644', '25M', '50,000,000+', 'Free', '0', 'Teen', 'Art & Design', 'June 8, 2018', 'Varies with device', '4.2 and up']\n",
      "\n",
      "\n",
      "Number of rows: 8863\n",
      "Number of columns: 13\n",
      "['529479190', 'Clash of Clans', '116476928', 'USD', '0.0', '2130805', '579', '4.5', '4.5', '9.24.12', '9+', 'Games', '38', '5', '18', '1']\n",
      "\n",
      "\n",
      "Number of rows: 3220\n",
      "Number of columns: 16\n"
     ]
    }
   ],
   "source": [
    "explore_data(google,2,3, True)\n",
    "explore_data(apple,2,3, True)\n"
   ]
  },
  {
   "cell_type": "markdown",
   "metadata": {},
   "source": [
    "We create headers below:"
   ]
  },
  {
   "cell_type": "code",
   "execution_count": 5,
   "metadata": {
    "scrolled": true
   },
   "outputs": [
    {
     "name": "stdout",
     "output_type": "stream",
     "text": [
      "['App', 'Category', 'Rating', 'Reviews', 'Size', 'Installs', 'Type', 'Price', 'Content Rating', 'Genres', 'Last Updated', 'Current Ver', 'Android Ver']\n",
      "['id', 'track_name', 'size_bytes', 'currency', 'price', 'rating_count_tot', 'rating_count_ver', 'user_rating', 'user_rating_ver', 'ver', 'cont_rating', 'prime_genre', 'sup_devices.num', 'ipadSc_urls.num', 'lang.num', 'vpp_lic']\n"
     ]
    }
   ],
   "source": [
    "gheader = google[0]\n",
    "print(gheader)\n",
    "google = google[1:]\n",
    "aheader = apple[0]\n",
    "print(aheader)\n",
    "apple = apple[1:]"
   ]
  },
  {
   "cell_type": "markdown",
   "metadata": {},
   "source": [
    "## Clear Data\n",
    "Check if there is any faulty entries"
   ]
  },
  {
   "cell_type": "code",
   "execution_count": 6,
   "metadata": {},
   "outputs": [
    {
     "name": "stdout",
     "output_type": "stream",
     "text": [
      "Dropping from google:\n",
      " ['Life Made WI-Fi Touchscreen Photo Frame', '1.9', '19', '3.0M', '1,000+', 'Free', '0', 'Everyone', '', 'February 11, 2018', '1.0.19', '4.0 and up']\n"
     ]
    }
   ],
   "source": [
    "for i in range(len(google)-1):\n",
    "    if len(google[i]) != len(gheader):\n",
    "        print(\"Dropping from google:\\n\",google[i])\n",
    "        del google[i]\n",
    "for i in range(len(apple)):\n",
    "    if len(apple[i]) != len(aheader):\n",
    "        print(\"Dropping from apple:\\n\",apple[i])\n",
    "        del apple[i]"
   ]
  },
  {
   "cell_type": "markdown",
   "metadata": {},
   "source": [
    "Check if there is  duplicate applications"
   ]
  },
  {
   "cell_type": "code",
   "execution_count": 7,
   "metadata": {
    "scrolled": true
   },
   "outputs": [
    {
     "name": "stdout",
     "output_type": "stream",
     "text": [
      "9659\n",
      "1181\n",
      "7195\n",
      "2\n"
     ]
    }
   ],
   "source": [
    "g_unique_apps = []\n",
    "g_dup_apps = []\n",
    "for app in google:\n",
    "    name = app[0]\n",
    "    if name in g_unique_apps:\n",
    "        g_dup_apps.append(name)\n",
    "    else:\n",
    "        g_unique_apps.append(name)\n",
    "print(len(g_unique_apps))\n",
    "print(len(g_dup_apps))\n",
    "        \n",
    "a_unique_apps = []\n",
    "a_dup_apps = []\n",
    "for app in apple:\n",
    "    name = app[1]\n",
    "    if name in a_unique_apps:\n",
    "        a_dup_apps.append(name)\n",
    "    else:\n",
    "        a_unique_apps.append(name)\n",
    "print(len(a_unique_apps))\n",
    "print(len(a_dup_apps))\n",
    "        "
   ]
  },
  {
   "cell_type": "markdown",
   "metadata": {},
   "source": [
    "Note that we won't drop duplicates randomly. Most recent entry is chosen by functipn below."
   ]
  },
  {
   "cell_type": "code",
   "execution_count": 8,
   "metadata": {},
   "outputs": [
    {
     "name": "stdout",
     "output_type": "stream",
     "text": [
      "9659\n",
      "7195\n"
     ]
    }
   ],
   "source": [
    "g_name_vs_review = {}\n",
    "for i in google:\n",
    "    name = i[0]\n",
    "    cur_rev = float(i[3])\n",
    "    if name not in g_name_vs_review:\n",
    "        g_name_vs_review[name] = cur_rev\n",
    "    else:\n",
    "        if cur_rev > g_name_vs_review[name]:\n",
    "            g_name_vs_review[name] = cur_rev\n",
    "print(len(g_name_vs_review))\n",
    "\n",
    "a_name_vs_review = {}\n",
    "for i in apple:\n",
    "    name = i[1]\n",
    "    cur_rev = float(i[5])\n",
    "    if name not in a_name_vs_review:\n",
    "        a_name_vs_review[name] = cur_rev\n",
    "    else:\n",
    "        if cur_rev > a_name_vs_review[name]:\n",
    "            a_name_vs_review[name] = cur_rev\n",
    "print(len(a_name_vs_review))"
   ]
  },
  {
   "cell_type": "markdown",
   "metadata": {},
   "source": [
    "Function below will create clean google list:"
   ]
  },
  {
   "cell_type": "code",
   "execution_count": 9,
   "metadata": {},
   "outputs": [
    {
     "name": "stdout",
     "output_type": "stream",
     "text": [
      "9659\n",
      "7195\n"
     ]
    }
   ],
   "source": [
    "google_clean = []\n",
    "added_apps = []\n",
    "for app in google:\n",
    "    name = app[0]\n",
    "    rev = float(app[3])\n",
    "    \n",
    "    if (g_name_vs_review[name] == rev) and (name not in added_apps):\n",
    "        google_clean.append(app)\n",
    "        added_apps.append(name)\n",
    "print(len(google_clean))\n",
    "\n",
    "apple_clean = []\n",
    "added_apps = []\n",
    "for app in apple:\n",
    "    name = app[1]\n",
    "    rev = float(app[5])\n",
    "    \n",
    "    if (a_name_vs_review[name] == rev) and (name not in added_apps):\n",
    "        apple_clean.append(app)\n",
    "        added_apps.append(name)\n",
    "print(len(apple_clean))\n",
    "\n",
    "google = google_clean\n",
    "apple  = apple_clean"
   ]
  },
  {
   "cell_type": "markdown",
   "metadata": {},
   "source": [
    "Check for if english"
   ]
  },
  {
   "cell_type": "code",
   "execution_count": 11,
   "metadata": {
    "scrolled": true
   },
   "outputs": [
    {
     "name": "stdout",
     "output_type": "stream",
     "text": [
      "9614\n",
      "6181\n"
     ]
    }
   ],
   "source": [
    "def english(name):\n",
    "    count = 0\n",
    "    for char in name:\n",
    "        if ord(char) > 127:\n",
    "            count += 1\n",
    "    if count > 3:\n",
    "        return False\n",
    "    else:\n",
    "        return True\n",
    "\n",
    "google_english = []\n",
    "apple_english = []\n",
    "\n",
    "for app in google:\n",
    "    name = app[0]\n",
    "    if english(name):\n",
    "        google_english.append(app)\n",
    "print(len(google_english))\n",
    "\n",
    "for app in apple:\n",
    "    name = app[1]\n",
    "    if english(name):\n",
    "        apple_english.append(app)\n",
    "print(len(apple_english))\n",
    "\n",
    "google = google_english\n",
    "apple = apple_english"
   ]
  },
  {
   "cell_type": "code",
   "execution_count": 28,
   "metadata": {},
   "outputs": [
    {
     "name": "stdout",
     "output_type": "stream",
     "text": [
      "8863 3220\n"
     ]
    }
   ],
   "source": [
    "g_not_free = []\n",
    "a_not_free = []\n",
    "g_free = []\n",
    "a_free = []\n",
    "for i in range(len(google)):\n",
    "    name=google[i][0]\n",
    "    price=google[i][6]\n",
    "    if price != \"Free\":\n",
    "        g_not_free.append(name)\n",
    "    else:\n",
    "        g_free.append(google[i])\n",
    "\n",
    "a_not_free = []\n",
    "for i in range(len(apple)):\n",
    "    name=apple[i][1]\n",
    "    price=apple[i][4]\n",
    "    if price != \"0.0\":\n",
    "        a_not_free.append(name)\n",
    "    else:\n",
    "        a_free.append(apple[i])\n",
    "\n",
    "print(len(g_free), len(a_free))"
   ]
  },
  {
   "cell_type": "markdown",
   "metadata": {},
   "source": [
    "Reset the datasets:"
   ]
  },
  {
   "cell_type": "code",
   "execution_count": 29,
   "metadata": {},
   "outputs": [],
   "source": [
    "google = g_free\n",
    "apple = a_free"
   ]
  },
  {
   "cell_type": "markdown",
   "metadata": {},
   "source": [
    "Since we want to build an app that succeds in both markets, we would like find out app profiles that are successfull in both markets. To achieve that, we may first look for most common genres:"
   ]
  },
  {
   "cell_type": "code",
   "execution_count": 36,
   "metadata": {},
   "outputs": [],
   "source": [
    "def genre_freq(genre,dataset):\n",
    "    if genre in genres[dataset]:\n",
    "        genres[dataset][genre] += 1\n",
    "    else:\n",
    "        genres[dataset][genre] = 1"
   ]
  },
  {
   "cell_type": "markdown",
   "metadata": {},
   "source": [
    "Function"
   ]
  },
  {
   "cell_type": "code",
   "execution_count": 50,
   "metadata": {
    "scrolled": false
   },
   "outputs": [
    {
     "name": "stdout",
     "output_type": "stream",
     "text": [
      "{'ART_AND_DESIGN': 57, 'AUTO_AND_VEHICLES': 82, 'BEAUTY': 53, 'BOOKS_AND_REFERENCE': 190, 'BUSINESS': 407, 'COMICS': 55, 'COMMUNICATION': 287, 'DATING': 165, 'EDUCATION': 103, 'ENTERTAINMENT': 85, 'EVENTS': 63, 'FINANCE': 328, 'FOOD_AND_DRINK': 110, 'HEALTH_AND_FITNESS': 273, 'HOUSE_AND_HOME': 73, 'LIBRARIES_AND_DEMO': 83, 'LIFESTYLE': 346, 'GAME': 862, 'FAMILY': 1675, 'MEDICAL': 313, 'SOCIAL': 236, 'SHOPPING': 199, 'PHOTOGRAPHY': 261, 'SPORTS': 301, 'TRAVEL_AND_LOCAL': 207, 'TOOLS': 750, 'PERSONALIZATION': 294, 'PRODUCTIVITY': 345, 'PARENTING': 58, 'WEATHER': 71, 'VIDEO_PLAYERS': 159, 'NEWS_AND_MAGAZINES': 248, 'MAPS_AND_NAVIGATION': 124}\n",
      "{'Social Networking': 106, 'Photo & Video': 160, 'Games': 1872, 'Music': 66, 'Reference': 18, 'Health & Fitness': 65, 'Weather': 28, 'Utilities': 81, 'Travel': 40, 'Shopping': 84, 'News': 43, 'Navigation': 6, 'Lifestyle': 51, 'Entertainment': 254, 'Food & Drink': 26, 'Sports': 69, 'Book': 14, 'Finance': 36, 'Education': 118, 'Productivity': 56, 'Business': 17, 'Catalogs': 4, 'Medical': 6}\n"
     ]
    }
   ],
   "source": [
    "google_genres = {}\n",
    "apple_genres = {}\n",
    "genres =  [google_genres,apple_genres]\n",
    "for app in google:\n",
    "    genre = app[1]\n",
    "    genre_freq(genre,0)\n",
    "print(google_genres)\n",
    "for app in apple:\n",
    "    genre = app[11]\n",
    "    genre_freq(genre,1)\n",
    "print(apple_genres)\n",
    "    "
   ]
  },
  {
   "cell_type": "markdown",
   "metadata": {},
   "source": [
    "for google:"
   ]
  },
  {
   "cell_type": "code",
   "execution_count": 53,
   "metadata": {},
   "outputs": [
    {
     "name": "stdout",
     "output_type": "stream",
     "text": [
      "FAMILY 1675\n",
      "GAME 862\n",
      "TOOLS 750\n",
      "BUSINESS 407\n",
      "LIFESTYLE 346\n",
      "PRODUCTIVITY 345\n",
      "FINANCE 328\n",
      "MEDICAL 313\n",
      "SPORTS 301\n",
      "PERSONALIZATION 294\n",
      "COMMUNICATION 287\n",
      "HEALTH_AND_FITNESS 273\n",
      "PHOTOGRAPHY 261\n",
      "NEWS_AND_MAGAZINES 248\n",
      "SOCIAL 236\n",
      "TRAVEL_AND_LOCAL 207\n",
      "SHOPPING 199\n",
      "BOOKS_AND_REFERENCE 190\n",
      "DATING 165\n",
      "VIDEO_PLAYERS 159\n",
      "MAPS_AND_NAVIGATION 124\n",
      "FOOD_AND_DRINK 110\n",
      "EDUCATION 103\n",
      "ENTERTAINMENT 85\n",
      "LIBRARIES_AND_DEMO 83\n",
      "AUTO_AND_VEHICLES 82\n",
      "HOUSE_AND_HOME 73\n",
      "WEATHER 71\n",
      "EVENTS 63\n",
      "PARENTING 58\n",
      "ART_AND_DESIGN 57\n",
      "COMICS 55\n",
      "BEAUTY 53\n",
      "{'FAMILY': 1675, 'GAME': 862, 'TOOLS': 750, 'BUSINESS': 407, 'LIFESTYLE': 346, 'PRODUCTIVITY': 345, 'FINANCE': 328, 'MEDICAL': 313, 'SPORTS': 301, 'PERSONALIZATION': 294, 'COMMUNICATION': 287, 'HEALTH_AND_FITNESS': 273, 'PHOTOGRAPHY': 261, 'NEWS_AND_MAGAZINES': 248, 'SOCIAL': 236, 'TRAVEL_AND_LOCAL': 207, 'SHOPPING': 199, 'BOOKS_AND_REFERENCE': 190, 'DATING': 165, 'VIDEO_PLAYERS': 159, 'MAPS_AND_NAVIGATION': 124, 'FOOD_AND_DRINK': 110, 'EDUCATION': 103, 'ENTERTAINMENT': 85, 'LIBRARIES_AND_DEMO': 83, 'AUTO_AND_VEHICLES': 82, 'HOUSE_AND_HOME': 73, 'WEATHER': 71, 'EVENTS': 63, 'PARENTING': 58, 'ART_AND_DESIGN': 57, 'COMICS': 55, 'BEAUTY': 53}\n"
     ]
    }
   ],
   "source": [
    "reversed_google_genres = {v: k for k, v in google_genres.items()}\n",
    "g_max_list = []\n",
    "for key in google_genres:\n",
    "    g_max_list.append(google_genres[key])\n",
    "g_max_list = sorted(g_max_list,reverse=True)\n",
    "\n",
    "c = 0\n",
    "google_genres = {}\n",
    "for i in g_max_list:\n",
    "    name = reversed_google_genres[i]\n",
    "    value = i\n",
    "    google_genres[name] = value\n",
    "print(google_genres)"
   ]
  },
  {
   "cell_type": "markdown",
   "metadata": {},
   "source": [
    "for apple:"
   ]
  },
  {
   "cell_type": "code",
   "execution_count": 54,
   "metadata": {
    "scrolled": true
   },
   "outputs": [
    {
     "name": "stdout",
     "output_type": "stream",
     "text": [
      "{'Games': 1872, 'Entertainment': 254, 'Photo & Video': 160, 'Education': 118, 'Social Networking': 106, 'Shopping': 84, 'Utilities': 81, 'Sports': 69, 'Music': 66, 'Health & Fitness': 65, 'Productivity': 56, 'Lifestyle': 51, 'News': 43, 'Travel': 40, 'Finance': 36, 'Weather': 28, 'Food & Drink': 26, 'Reference': 18, 'Business': 17, 'Book': 14, 'Medical': 6, 'Catalogs': 4}\n"
     ]
    }
   ],
   "source": [
    "reversed_apple_genres = {v: k for k, v in apple_genres.items()}\n",
    "a_max_list = []\n",
    "for key in apple_genres:\n",
    "    a_max_list.append(apple_genres[key])\n",
    "a_max_list = sorted(a_max_list,reverse=True)\n",
    "\n",
    "c = 0\n",
    "apple_genres = {}\n",
    "for i in a_max_list:\n",
    "    name = reversed_apple_genres[i]\n",
    "    value = i\n",
    "    apple_genres[name] = value\n",
    "print(apple_genres)\n",
    "    "
   ]
  },
  {
   "cell_type": "code",
   "execution_count": 65,
   "metadata": {},
   "outputs": [
    {
     "name": "stdout",
     "output_type": "stream",
     "text": [
      "[{'4.1': 6.6794539095114525, '4.7': 4.321335890781902, '4.5': 8.811914701568318, '4.3': 9.522734965587274, '4.4': 9.285794877580955, '3.8': 3.0125239760803337, '4.2': 8.473428861559292, '4.6': 6.8374139681823305, '3.2': 0.6882545413516867, '4.0': 5.517319192147128, '4.8': 2.06476362405506, '3.9': 3.870021437436534, '4.9': 0.8913460453571026, '3.6': 1.771409229380571, '3.7': 2.403249464064087, 'NaN': 14.633871149723571, '3.3': 1.0718718266952498, '3.4': 1.3088119147015682, '3.5': 1.6472977547105947, '3.1': 0.7333859866862237, '5.0': 2.7417353040731127, '3.0': 0.8236488773552973, '2.5': 0.21437436533904997, '2.8': 0.4174658693444658, '2.7': 0.2369400880063184, '1.0': 0.15796005867087895, '1.9': 0.1241114746699763, '2.9': 0.4400315920117342, '2.3': 0.20309150400541578, '2.6': 0.2482229493399526, '2.2': 0.15796005867087895, '1.7': 0.07898002933543948, '2.0': 0.1241114746699763, '2.4': 0.19180864267178158, '1.8': 0.07898002933543948, '1.6': 0.045131445334536835, '2.1': 0.09026289066907367, '1.4': 0.033848584000902626, '1.5': 0.033848584000902626, '1.2': 0.011282861333634209}]\n"
     ]
    }
   ],
   "source": [
    "def freq_table(dataset, index):\n",
    "    table = {}\n",
    "    percentage = {}\n",
    "    for i in range(len(dataset)):\n",
    "        value = dataset[i][index]\n",
    "        if value not in table:\n",
    "            table[value] = 0\n",
    "        table[value] += 1\n",
    "    sum = 0\n",
    "    for count in table:\n",
    "        sum += table[count]\n",
    "    for n in table:\n",
    "        percentage[n] = (table[n]/sum)*100\n",
    "    return [percentage]\n",
    "\n",
    "print(freq_table(google,2))"
   ]
  },
  {
   "cell_type": "code",
   "execution_count": 66,
   "metadata": {},
   "outputs": [],
   "source": [
    "def display_table(dataset, index):\n",
    "    table = freq_table(dataset, index)\n",
    "    table_display = []\n",
    "    for key in table:\n",
    "        key_val_as_tuple = (table[key], key)\n",
    "        table_display.append(key_val_as_tuple)\n",
    "\n",
    "    table_sorted = sorted(table_display, reverse = True)\n",
    "    for entry in table_sorted:\n",
    "        print(entry[1], ':', entry[0])"
   ]
  },
  {
   "cell_type": "code",
   "execution_count": null,
   "metadata": {},
   "outputs": [],
   "source": []
  }
 ],
 "metadata": {
  "kernelspec": {
   "display_name": "Python 3",
   "language": "python",
   "name": "python3"
  },
  "language_info": {
   "codemirror_mode": {
    "name": "ipython",
    "version": 3
   },
   "file_extension": ".py",
   "mimetype": "text/x-python",
   "name": "python",
   "nbconvert_exporter": "python",
   "pygments_lexer": "ipython3",
   "version": "3.8.2"
  }
 },
 "nbformat": 4,
 "nbformat_minor": 2
}
