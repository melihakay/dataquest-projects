{
 "cells": [
  {
   "cell_type": "markdown",
   "metadata": {},
   "source": [
    "# Analyzing Exchange Rates from 1999 to 2020"
   ]
  },
  {
   "cell_type": "markdown",
   "metadata": {},
   "source": [
    "Source = [Kaggle](https://www.kaggle.com/datasets/lsind18/euro-exchange-daily-rates-19992020) - Downloaded at April 2022"
   ]
  },
  {
   "cell_type": "code",
   "execution_count": 1,
   "metadata": {},
   "outputs": [],
   "source": [
    "import pandas as pd\n",
    "import numpy as np\n",
    "import matplotlib.pyplot as plt\n",
    "%matplotlib inline\n",
    "import matplotlib.style as style\n",
    "import datetime as dt"
   ]
  },
  {
   "cell_type": "markdown",
   "metadata": {},
   "source": [
    "## Importing dataset and initial examinations"
   ]
  },
  {
   "cell_type": "code",
   "execution_count": 2,
   "metadata": {},
   "outputs": [],
   "source": [
    "exchange_rates = pd.read_csv(\"euro-daily-hist_1999_2022.csv\")"
   ]
  },
  {
   "cell_type": "code",
   "execution_count": 3,
   "metadata": {},
   "outputs": [
    {
     "name": "stdout",
     "output_type": "stream",
     "text": [
      "<class 'pandas.core.frame.DataFrame'>\n",
      "RangeIndex: 6022 entries, 0 to 6021\n",
      "Data columns (total 41 columns):\n",
      " #   Column                    Non-Null Count  Dtype  \n",
      "---  ------                    --------------  -----  \n",
      " 0   Period\\Unit:              6022 non-null   object \n",
      " 1   [Australian dollar ]      6022 non-null   object \n",
      " 2   [Bulgarian lev ]          5620 non-null   object \n",
      " 3   [Brazilian real ]         5754 non-null   object \n",
      " 4   [Canadian dollar ]        6022 non-null   object \n",
      " 5   [Swiss franc ]            6022 non-null   object \n",
      " 6   [Chinese yuan renminbi ]  5754 non-null   object \n",
      " 7   [Cypriot pound ]          2346 non-null   object \n",
      " 8   [Czech koruna ]           6022 non-null   object \n",
      " 9   [Danish krone ]           6022 non-null   object \n",
      " 10  [Estonian kroon ]         3130 non-null   object \n",
      " 11  [UK pound sterling ]      6022 non-null   object \n",
      " 12  [Greek drachma ]          520 non-null    object \n",
      " 13  [Hong Kong dollar ]       6022 non-null   object \n",
      " 14  [Croatian kuna ]          5754 non-null   object \n",
      " 15  [Hungarian forint ]       6022 non-null   object \n",
      " 16  [Indonesian rupiah ]      6022 non-null   object \n",
      " 17  [Israeli shekel ]         5754 non-null   object \n",
      " 18  [Indian rupee ]           5754 non-null   object \n",
      " 19  [Iceland krona ]          3615 non-null   float64\n",
      " 20  [Japanese yen ]           6022 non-null   object \n",
      " 21  [Korean won ]             6022 non-null   object \n",
      " 22  [Lithuanian litas ]       4159 non-null   object \n",
      " 23  [Latvian lats ]           3904 non-null   object \n",
      " 24  [Maltese lira ]           2346 non-null   object \n",
      " 25  [Mexican peso ]           6022 non-null   object \n",
      " 26  [Malaysian ringgit ]      6022 non-null   object \n",
      " 27  [Norwegian krone ]        6022 non-null   object \n",
      " 28  [New Zealand dollar ]     6022 non-null   object \n",
      " 29  [Philippine peso ]        6022 non-null   object \n",
      " 30  [Polish zloty ]           6022 non-null   object \n",
      " 31  [Romanian leu ]           5960 non-null   float64\n",
      " 32  [Russian rouble ]         5994 non-null   object \n",
      " 33  [Swedish krona ]          6022 non-null   object \n",
      " 34  [Singapore dollar ]       6022 non-null   object \n",
      " 35  [Slovenian tolar ]        2085 non-null   object \n",
      " 36  [Slovak koruna ]          2608 non-null   object \n",
      " 37  [Thai baht ]              6022 non-null   object \n",
      " 38  [Turkish lira ]           5960 non-null   float64\n",
      " 39  [US dollar ]              6022 non-null   object \n",
      " 40  [South African rand ]     6022 non-null   object \n",
      "dtypes: float64(3), object(38)\n",
      "memory usage: 1.9+ MB\n"
     ]
    },
    {
     "data": {
      "text/html": [
       "<div>\n",
       "<style scoped>\n",
       "    .dataframe tbody tr th:only-of-type {\n",
       "        vertical-align: middle;\n",
       "    }\n",
       "\n",
       "    .dataframe tbody tr th {\n",
       "        vertical-align: top;\n",
       "    }\n",
       "\n",
       "    .dataframe thead th {\n",
       "        text-align: right;\n",
       "    }\n",
       "</style>\n",
       "<table border=\"1\" class=\"dataframe\">\n",
       "  <thead>\n",
       "    <tr style=\"text-align: right;\">\n",
       "      <th></th>\n",
       "      <th>Period\\Unit:</th>\n",
       "      <th>[Australian dollar ]</th>\n",
       "      <th>[Bulgarian lev ]</th>\n",
       "      <th>[Brazilian real ]</th>\n",
       "      <th>[Canadian dollar ]</th>\n",
       "      <th>[Swiss franc ]</th>\n",
       "      <th>[Chinese yuan renminbi ]</th>\n",
       "      <th>[Cypriot pound ]</th>\n",
       "      <th>[Czech koruna ]</th>\n",
       "      <th>[Danish krone ]</th>\n",
       "      <th>...</th>\n",
       "      <th>[Romanian leu ]</th>\n",
       "      <th>[Russian rouble ]</th>\n",
       "      <th>[Swedish krona ]</th>\n",
       "      <th>[Singapore dollar ]</th>\n",
       "      <th>[Slovenian tolar ]</th>\n",
       "      <th>[Slovak koruna ]</th>\n",
       "      <th>[Thai baht ]</th>\n",
       "      <th>[Turkish lira ]</th>\n",
       "      <th>[US dollar ]</th>\n",
       "      <th>[South African rand ]</th>\n",
       "    </tr>\n",
       "  </thead>\n",
       "  <tbody>\n",
       "    <tr>\n",
       "      <th>0</th>\n",
       "      <td>2022-04-08</td>\n",
       "      <td>1.4552</td>\n",
       "      <td>1.9558</td>\n",
       "      <td>5.1583</td>\n",
       "      <td>1.3675</td>\n",
       "      <td>1.0155</td>\n",
       "      <td>6.9115</td>\n",
       "      <td>NaN</td>\n",
       "      <td>24.479</td>\n",
       "      <td>7.4372</td>\n",
       "      <td>...</td>\n",
       "      <td>4.9425</td>\n",
       "      <td>NaN</td>\n",
       "      <td>10.2768</td>\n",
       "      <td>1.4801</td>\n",
       "      <td>NaN</td>\n",
       "      <td>NaN</td>\n",
       "      <td>36.4880</td>\n",
       "      <td>16.0237</td>\n",
       "      <td>1.0861</td>\n",
       "      <td>15.9968</td>\n",
       "    </tr>\n",
       "    <tr>\n",
       "      <th>1</th>\n",
       "      <td>2022-04-07</td>\n",
       "      <td>1.4578</td>\n",
       "      <td>1.9558</td>\n",
       "      <td>5.1460</td>\n",
       "      <td>1.3704</td>\n",
       "      <td>1.0185</td>\n",
       "      <td>6.9448</td>\n",
       "      <td>NaN</td>\n",
       "      <td>24.512</td>\n",
       "      <td>7.4378</td>\n",
       "      <td>...</td>\n",
       "      <td>4.9419</td>\n",
       "      <td>NaN</td>\n",
       "      <td>10.3130</td>\n",
       "      <td>1.4848</td>\n",
       "      <td>NaN</td>\n",
       "      <td>NaN</td>\n",
       "      <td>36.5410</td>\n",
       "      <td>16.0929</td>\n",
       "      <td>1.0916</td>\n",
       "      <td>16.0520</td>\n",
       "    </tr>\n",
       "    <tr>\n",
       "      <th>2</th>\n",
       "      <td>2022-04-06</td>\n",
       "      <td>1.4431</td>\n",
       "      <td>1.9558</td>\n",
       "      <td>5.0996</td>\n",
       "      <td>1.3647</td>\n",
       "      <td>1.0187</td>\n",
       "      <td>6.9498</td>\n",
       "      <td>NaN</td>\n",
       "      <td>24.441</td>\n",
       "      <td>7.4378</td>\n",
       "      <td>...</td>\n",
       "      <td>4.9433</td>\n",
       "      <td>NaN</td>\n",
       "      <td>10.2855</td>\n",
       "      <td>1.4844</td>\n",
       "      <td>NaN</td>\n",
       "      <td>NaN</td>\n",
       "      <td>36.7010</td>\n",
       "      <td>16.0998</td>\n",
       "      <td>1.0923</td>\n",
       "      <td>15.9934</td>\n",
       "    </tr>\n",
       "    <tr>\n",
       "      <th>3</th>\n",
       "      <td>2022-04-05</td>\n",
       "      <td>1.4374</td>\n",
       "      <td>1.9558</td>\n",
       "      <td>5.0384</td>\n",
       "      <td>1.3647</td>\n",
       "      <td>1.0141</td>\n",
       "      <td>6.9783</td>\n",
       "      <td>NaN</td>\n",
       "      <td>24.338</td>\n",
       "      <td>7.4378</td>\n",
       "      <td>...</td>\n",
       "      <td>4.9438</td>\n",
       "      <td>NaN</td>\n",
       "      <td>10.2593</td>\n",
       "      <td>1.4867</td>\n",
       "      <td>NaN</td>\n",
       "      <td>NaN</td>\n",
       "      <td>36.6970</td>\n",
       "      <td>16.1500</td>\n",
       "      <td>1.0969</td>\n",
       "      <td>15.9529</td>\n",
       "    </tr>\n",
       "    <tr>\n",
       "      <th>4</th>\n",
       "      <td>2022-04-04</td>\n",
       "      <td>1.4651</td>\n",
       "      <td>1.9558</td>\n",
       "      <td>5.1162</td>\n",
       "      <td>1.3749</td>\n",
       "      <td>1.0203</td>\n",
       "      <td>7.0026</td>\n",
       "      <td>NaN</td>\n",
       "      <td>24.320</td>\n",
       "      <td>7.4385</td>\n",
       "      <td>...</td>\n",
       "      <td>4.9432</td>\n",
       "      <td>NaN</td>\n",
       "      <td>10.3849</td>\n",
       "      <td>1.4938</td>\n",
       "      <td>NaN</td>\n",
       "      <td>NaN</td>\n",
       "      <td>36.8940</td>\n",
       "      <td>16.1830</td>\n",
       "      <td>1.1005</td>\n",
       "      <td>16.0957</td>\n",
       "    </tr>\n",
       "  </tbody>\n",
       "</table>\n",
       "<p>5 rows × 41 columns</p>\n",
       "</div>"
      ],
      "text/plain": [
       "  Period\\Unit: [Australian dollar ] [Bulgarian lev ] [Brazilian real ]  \\\n",
       "0   2022-04-08               1.4552           1.9558            5.1583   \n",
       "1   2022-04-07               1.4578           1.9558            5.1460   \n",
       "2   2022-04-06               1.4431           1.9558            5.0996   \n",
       "3   2022-04-05               1.4374           1.9558            5.0384   \n",
       "4   2022-04-04               1.4651           1.9558            5.1162   \n",
       "\n",
       "  [Canadian dollar ] [Swiss franc ] [Chinese yuan renminbi ] [Cypriot pound ]  \\\n",
       "0             1.3675         1.0155                   6.9115              NaN   \n",
       "1             1.3704         1.0185                   6.9448              NaN   \n",
       "2             1.3647         1.0187                   6.9498              NaN   \n",
       "3             1.3647         1.0141                   6.9783              NaN   \n",
       "4             1.3749         1.0203                   7.0026              NaN   \n",
       "\n",
       "  [Czech koruna ] [Danish krone ]  ... [Romanian leu ] [Russian rouble ]  \\\n",
       "0          24.479          7.4372  ...          4.9425               NaN   \n",
       "1          24.512          7.4378  ...          4.9419               NaN   \n",
       "2          24.441          7.4378  ...          4.9433               NaN   \n",
       "3          24.338          7.4378  ...          4.9438               NaN   \n",
       "4          24.320          7.4385  ...          4.9432               NaN   \n",
       "\n",
       "  [Swedish krona ] [Singapore dollar ] [Slovenian tolar ] [Slovak koruna ]  \\\n",
       "0          10.2768              1.4801                NaN              NaN   \n",
       "1          10.3130              1.4848                NaN              NaN   \n",
       "2          10.2855              1.4844                NaN              NaN   \n",
       "3          10.2593              1.4867                NaN              NaN   \n",
       "4          10.3849              1.4938                NaN              NaN   \n",
       "\n",
       "  [Thai baht ] [Turkish lira ] [US dollar ]  [South African rand ]  \n",
       "0      36.4880         16.0237       1.0861                15.9968  \n",
       "1      36.5410         16.0929       1.0916                16.0520  \n",
       "2      36.7010         16.0998       1.0923                15.9934  \n",
       "3      36.6970         16.1500       1.0969                15.9529  \n",
       "4      36.8940         16.1830       1.1005                16.0957  \n",
       "\n",
       "[5 rows x 41 columns]"
      ]
     },
     "execution_count": 3,
     "metadata": {},
     "output_type": "execute_result"
    }
   ],
   "source": [
    "exchange_rates.info()\n",
    "exchange_rates.head()"
   ]
  },
  {
   "cell_type": "markdown",
   "metadata": {},
   "source": [
    "1. It looks like a lot of currencies have null values. We have 5699 rows in datatset, each represent a day. We have 40 currencies and nearly half of them lack for some days.\n",
    "2. Most of columns have datatype : object. Since we are going to analyze them numerically it is better to convert them to floats."
   ]
  },
  {
   "cell_type": "code",
   "execution_count": 4,
   "metadata": {},
   "outputs": [],
   "source": [
    "exchange_rates.rename(columns={'[US dollar ]': 'US_dollar','Period\\\\Unit:': \"Day\"},inplace=True)\n",
    "exchange_rates[\"Day\"] = pd.to_datetime(exchange_rates[\"Day\"])\n",
    "exchange_rates.sort_values(by=\"Day\",ascending=False)\n",
    "exchange_rates.reset_index(drop=True, inplace = True)"
   ]
  },
  {
   "cell_type": "code",
   "execution_count": 5,
   "metadata": {},
   "outputs": [
    {
     "data": {
      "text/plain": [
       "(6022, 41)"
      ]
     },
     "execution_count": 5,
     "metadata": {},
     "output_type": "execute_result"
    }
   ],
   "source": [
    "exchange_rates.shape"
   ]
  },
  {
   "cell_type": "markdown",
   "metadata": {},
   "source": [
    "## Plotting Euro vs Turkish Lira for last 20 years"
   ]
  },
  {
   "cell_type": "code",
   "execution_count": 13,
   "metadata": {},
   "outputs": [],
   "source": [
    "eur_tl = exchange_rates.copy()[[\"Day\",\"[Turkish lira ]\"]]\n",
    "eur_tl.rename(columns={\"[Turkish lira ]\" : \"TL\"},inplace=True)\n",
    "eur_tl.sort_values(by=\"Day\",inplace=True,ascending=True)\n",
    "eur_tl.reset_index(inplace=True)"
   ]
  },
  {
   "cell_type": "code",
   "execution_count": 14,
   "metadata": {},
   "outputs": [
    {
     "data": {
      "text/plain": [
       "<AxesSubplot:xlabel='Day'>"
      ]
     },
     "execution_count": 14,
     "metadata": {},
     "output_type": "execute_result"
    },
    {
     "data": {
      "image/png": "[encoded data removed]",
      "text/plain": [
       "<Figure size 432x288 with 1 Axes>"
      ]
     },
     "metadata": {
      "needs_background": "light"
     },
     "output_type": "display_data"
    }
   ],
   "source": [
    "eur_tl.plot.line(x=\"Day\",y=\"TL\")"
   ]
  },
  {
   "cell_type": "code",
   "execution_count": 15,
   "metadata": {},
   "outputs": [
    {
     "name": "stdout",
     "output_type": "stream",
     "text": [
      "<class 'pandas.core.frame.DataFrame'>\n",
      "RangeIndex: 6022 entries, 0 to 6021\n",
      "Data columns (total 3 columns):\n",
      " #   Column  Non-Null Count  Dtype         \n",
      "---  ------  --------------  -----         \n",
      " 0   index   6022 non-null   int64         \n",
      " 1   Day     6022 non-null   datetime64[ns]\n",
      " 2   TL      5960 non-null   float64       \n",
      "dtypes: datetime64[ns](1), float64(1), int64(1)\n",
      "memory usage: 141.3 KB\n"
     ]
    }
   ],
   "source": [
    "eur_tl.info()"
   ]
  },
  {
   "cell_type": "markdown",
   "metadata": {},
   "source": [
    "It looks like we have 62 null values in value columns. Dropping null values"
   ]
  },
  {
   "cell_type": "code",
   "execution_count": 16,
   "metadata": {},
   "outputs": [
    {
     "name": "stdout",
     "output_type": "stream",
     "text": [
      "<class 'pandas.core.frame.DataFrame'>\n",
      "Int64Index: 5960 entries, 0 to 6021\n",
      "Data columns (total 3 columns):\n",
      " #   Column  Non-Null Count  Dtype         \n",
      "---  ------  --------------  -----         \n",
      " 0   index   5960 non-null   int64         \n",
      " 1   Day     5960 non-null   datetime64[ns]\n",
      " 2   TL      5960 non-null   float64       \n",
      "dtypes: datetime64[ns](1), float64(1), int64(1)\n",
      "memory usage: 186.2 KB\n"
     ]
    }
   ],
   "source": [
    "eur_tl.dropna(inplace=True)\n",
    "eur_tl.info()"
   ]
  },
  {
   "cell_type": "code",
   "execution_count": 17,
   "metadata": {},
   "outputs": [
    {
     "data": {
      "text/plain": [
       "<AxesSubplot:xlabel='Day'>"
      ]
     },
     "execution_count": 17,
     "metadata": {},
     "output_type": "execute_result"
    },
    {
     "data": {
      "image/png": "[encoded data removed]",
      "text/plain": [
       "<Figure size 432x288 with 1 Axes>"
      ]
     },
     "metadata": {
      "needs_background": "light"
     },
     "output_type": "display_data"
    }
   ],
   "source": [
    "eur_tl.plot.line(x=\"Day\",y=\"TL\")"
   ]
  },
  {
   "cell_type": "code",
   "execution_count": 18,
   "metadata": {
    "scrolled": true
   },
   "outputs": [
    {
     "data": {
      "text/html": [
       "<div>\n",
       "<style scoped>\n",
       "    .dataframe tbody tr th:only-of-type {\n",
       "        vertical-align: middle;\n",
       "    }\n",
       "\n",
       "    .dataframe tbody tr th {\n",
       "        vertical-align: top;\n",
       "    }\n",
       "\n",
       "    .dataframe thead th {\n",
       "        text-align: right;\n",
       "    }\n",
       "</style>\n",
       "<table border=\"1\" class=\"dataframe\">\n",
       "  <thead>\n",
       "    <tr style=\"text-align: right;\">\n",
       "      <th></th>\n",
       "      <th>index</th>\n",
       "      <th>Day</th>\n",
       "      <th>TL</th>\n",
       "    </tr>\n",
       "  </thead>\n",
       "  <tbody>\n",
       "    <tr>\n",
       "      <th>0</th>\n",
       "      <td>6021</td>\n",
       "      <td>1999-01-04</td>\n",
       "      <td>0.3723</td>\n",
       "    </tr>\n",
       "    <tr>\n",
       "      <th>1</th>\n",
       "      <td>6020</td>\n",
       "      <td>1999-01-05</td>\n",
       "      <td>0.3728</td>\n",
       "    </tr>\n",
       "    <tr>\n",
       "      <th>2</th>\n",
       "      <td>6019</td>\n",
       "      <td>1999-01-06</td>\n",
       "      <td>0.3722</td>\n",
       "    </tr>\n",
       "    <tr>\n",
       "      <th>3</th>\n",
       "      <td>6018</td>\n",
       "      <td>1999-01-07</td>\n",
       "      <td>0.3701</td>\n",
       "    </tr>\n",
       "    <tr>\n",
       "      <th>4</th>\n",
       "      <td>6017</td>\n",
       "      <td>1999-01-08</td>\n",
       "      <td>0.3718</td>\n",
       "    </tr>\n",
       "  </tbody>\n",
       "</table>\n",
       "</div>"
      ],
      "text/plain": [
       "   index        Day      TL\n",
       "0   6021 1999-01-04  0.3723\n",
       "1   6020 1999-01-05  0.3728\n",
       "2   6019 1999-01-06  0.3722\n",
       "3   6018 1999-01-07  0.3701\n",
       "4   6017 1999-01-08  0.3718"
      ]
     },
     "execution_count": 18,
     "metadata": {},
     "output_type": "execute_result"
    }
   ],
   "source": [
    "eur_tl.head()"
   ]
  },
  {
   "cell_type": "markdown",
   "metadata": {},
   "source": [
    "1. Ahmet Necdet Sezer : 16 May 2000 - 28 August 2007\n",
    "2. Abdullah Gül : 28 August 2007 - 28 August 2014\n",
    "3. Recep Tayyip Erdoğan : 28 August 2014 - Today"
   ]
  },
  {
   "cell_type": "code",
   "execution_count": 19,
   "metadata": {},
   "outputs": [],
   "source": [
    "dateindex = eur_tl.copy().set_index(\"Day\")\n",
    "dateindex.drop(\"index\",axis=1,inplace=True)"
   ]
  },
  {
   "cell_type": "code",
   "execution_count": 20,
   "metadata": {},
   "outputs": [
    {
     "name": "stdout",
     "output_type": "stream",
     "text": [
      "<class 'pandas.core.frame.DataFrame'>\n",
      "DatetimeIndex: 5960 entries, 1999-01-04 to 2022-04-08\n",
      "Data columns (total 1 columns):\n",
      " #   Column  Non-Null Count  Dtype  \n",
      "---  ------  --------------  -----  \n",
      " 0   TL      5960 non-null   float64\n",
      "dtypes: float64(1)\n",
      "memory usage: 93.1 KB\n"
     ]
    }
   ],
   "source": [
    "dateindex.info()"
   ]
  },
  {
   "cell_type": "code",
   "execution_count": 110,
   "metadata": {},
   "outputs": [],
   "source": [
    "sezer = dateindex.copy().loc[\"2000-5-16\":\"2007-8-28\"]\n",
    "gul = dateindex.copy().loc[\"2007-8-28\":\"2014-8-28\"]\n",
    "erdogan = dateindex.copy().loc[\"2014-8-28\":]\n",
    "\n",
    "for i in [sezer,gul,erdogan]:\n",
    "    i[\"rolling\"] = i[\"TL\"].rolling(30).mean()"
   ]
  },
  {
   "cell_type": "markdown",
   "metadata": {},
   "source": [
    "## Plotting the Figue"
   ]
  },
  {
   "cell_type": "markdown",
   "metadata": {},
   "source": [
    "Below we create two seperate figures bu use first row of first figure and second row of second figure."
   ]
  },
  {
   "cell_type": "code",
   "execution_count": 111,
   "metadata": {},
   "outputs": [
    {
     "data": {
      "image/png": "[encoded data removed]",
      "text/plain": [
       "<Figure size 720x720 with 4 Axes>"
      ]
     },
     "metadata": {},
     "output_type": "display_data"
    }
   ],
   "source": [
    "style.use(\"fivethirtyeight\")\n",
    "\n",
    "fig = plt.figure(figsize=(10,10))\n",
    "ax1 = fig.add_subplot(231)\n",
    "ax2 = fig.add_subplot(232)\n",
    "ax3 = fig.add_subplot(233)\n",
    "ax4 = fig.add_subplot(212)"
   ]
  },
  {
   "cell_type": "markdown",
   "metadata": {},
   "source": [
    "Arranging the subfigures"
   ]
  },
  {
   "cell_type": "code",
   "execution_count": 112,
   "metadata": {},
   "outputs": [],
   "source": [
    "for ax in [ax1,ax2,ax3,ax4]:\n",
    "    ax.set_yticks([4,8,12,16,20])\n",
    "    ax.set_yticklabels([\"4\",\"8\",\"12\",\"16\",\"20\"],\n",
    "                      alpha=0.3)\n",
    "    ax.set_ylim(0,17)\n",
    "    ax.grid(alpha=0.5)"
   ]
  },
  {
   "cell_type": "code",
   "execution_count": 113,
   "metadata": {},
   "outputs": [
    {
     "data": {
      "text/plain": [
       "Text(9900, -1, 'Melih Akay                                                                            Source: European Central Bank')"
      ]
     },
     "execution_count": 113,
     "metadata": {},
     "output_type": "execute_result"
    }
   ],
   "source": [
    "##Ax 1 : Sezer\n",
    "ax1.plot(sezer.index,sezer[\"rolling\"],  color='#BF5FFF')\n",
    "ax1.set_xticks([\"2000\",\"2002\",\"2004\",\"2006\",\"2008\"])\n",
    "ax1.set_xticklabels([\"2000\",\"2002\",\"2004\",\"2006\",\"2008\"], alpha = 0.3)\n",
    "\n",
    "##Ax 2 : Gul\n",
    "ax2.plot(gul.index,gul[\"rolling\"], color='#ffa500')\n",
    "ax2.set_xticks([\"2008\",\"2010\",\"2012\",\"2014\"])\n",
    "ax2.set_xticklabels([\"2008\",\"2010\",\"2012\",\"2014\"], alpha = 0.3)\n",
    "\n",
    "##Ax 3 : Erdogan\n",
    "ax3.plot(erdogan[:\"2018-07-01\"].index,erdogan[\"rolling\"][:\"2018-07-01\"], color='#00B2EE')\n",
    "ax3.plot(erdogan[\"2018-07-01\":].index,erdogan[\"rolling\"][\"2018-07-01\":],color=\"#EE3C00\")\n",
    "ax3.set_xticks([\"2014\",\"2016\",\"2018\",\"2020\",\"2022\"])\n",
    "ax3.set_xticklabels([\"2014\",\"2016\",\"2018\",\"2020\",\"2022\"], alpha = 0.3)\n",
    "\n",
    "##Ax 4 : Together\n",
    "ax4.plot(sezer.index,sezer[\"rolling\"],  color='#BF5FFF')\n",
    "ax4.plot(gul.index,gul[\"rolling\"], color='#ffa500')\n",
    "ax4.plot(erdogan[:\"2018-07-01\"].index,erdogan[\"rolling\"][:\"2018-07-01\"], color='#00B2EE')\n",
    "ax4.plot(erdogan[\"2018-07-01\":].index,erdogan[\"rolling\"][\"2018-07-01\":],color=\"#EE3C00\")\n",
    "\n",
    "ax1.text(10000,23.25,\"EURO-TL rate incresed rapidly under the last president of Turkey\",size=20,weight=\"bold\")\n",
    "ax1.text(10000,21,\"\"\"EURO-TL exchange rates under Ahmet Necdet Sezer (2000-2007), Abdullah Gul (2007-2014) and Recep \n",
    "Tayyip Erdogan (2014-2018 Ceremonial President, 2018-Today Executive President)\"\"\")\n",
    "\n",
    "ax1.text(12000,19.5,\"Sezer\",color='#BF5FFF',size=18,weight=\"bold\")\n",
    "ax2.text(14750,19.5,\"Gul\",color='#ffa500',size=18,weight=\"bold\")\n",
    "ax3.text(17000,19.5,\"Erdogan\",color='#00B2EE',size=18,weight=\"bold\")\n",
    "ax4.text(9900,-1,\"Melih Akay\"+\" \"*76+\"Source: European Central Bank\",color = '#f0f0f0',backgroundcolor = '#4d4d4d',size=16)"
   ]
  },
  {
   "cell_type": "code",
   "execution_count": 114,
   "metadata": {},
   "outputs": [
    {
     "data": {
      "image/png": "[encoded data removed]",
      "text/plain": [
       "<Figure size 720x720 with 4 Axes>"
      ]
     },
     "execution_count": 114,
     "metadata": {},
     "output_type": "execute_result"
    }
   ],
   "source": [
    "fig"
   ]
  },
  {
   "cell_type": "code",
   "execution_count": null,
   "metadata": {},
   "outputs": [],
   "source": []
  },
  {
   "cell_type": "code",
   "execution_count": null,
   "metadata": {},
   "outputs": [],
   "source": []
  }
 ],
 "metadata": {
  "kernelspec": {
   "display_name": "Python 3 (ipykernel)",
   "language": "python",
   "name": "python3"
  },
  "language_info": {
   "codemirror_mode": {
    "name": "ipython",
    "version": 3
   },
   "file_extension": ".py",
   "mimetype": "text/x-python",
   "name": "python",
   "nbconvert_exporter": "python",
   "pygments_lexer": "ipython3",
   "version": "3.9.7"
  }
 },
 "nbformat": 4,
 "nbformat_minor": 4
}
